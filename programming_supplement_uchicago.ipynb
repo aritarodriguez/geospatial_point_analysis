{
  "nbformat": 4,
  "nbformat_minor": 0,
  "metadata": {
    "colab": {
      "provenance": [],
      "authorship_tag": "ABX9TyPOT5QNN0nu8t3RvcNbnGPD",
      "include_colab_link": true
    },
    "kernelspec": {
      "name": "python3",
      "display_name": "Python 3"
    },
    "language_info": {
      "name": "python"
    }
  },
  "cells": [
    {
      "cell_type": "markdown",
      "metadata": {
        "id": "view-in-github",
        "colab_type": "text"
      },
      "source": [
        "<a href=\"https://colab.research.google.com/github/aritarodriguez/geospatial_point_analysis/blob/main/programming_supplement_uchicago.ipynb\" target=\"_parent\"><img src=\"https://colab.research.google.com/assets/colab-badge.svg\" alt=\"Open In Colab\"/></a>"
      ]
    },
    {
      "cell_type": "code",
      "source": [
        "# === Geospatial validation ===\n",
        "import pandas as pd, numpy as np, geopandas as gpd\n",
        "import matplotlib.pyplot as plt\n",
        "from sklearn.cluster import DBSCAN\n",
        "\n",
        "# 1) Ingest (CSV preferred; Excel fallback)\n",
        "try:\n",
        "    df = pd.read_csv(\"TALLER_FINAL.csv\")\n",
        "except FileNotFoundError:\n",
        "    df = pd.read_excel(\"TALLER FINAL.xlsx\", sheet_name=\"Guayaquil\")\n",
        "\n",
        "# Clean headers; detect lat/lon\n",
        "df.columns = df.columns.str.strip().str.upper().str.replace(\"\\n\",\" \", regex=False)\n",
        "col_lat = [c for c in df.columns if \"LAT\" in c][0]\n",
        "col_lon = [c for c in df.columns if \"LON\" in c][0]\n",
        "df = df.rename(columns={col_lat:\"LATITUDE\", col_lon:\"LONGITUDE\"})\n",
        "\n",
        "# 2) Dtype management: numeric + optional categorical/date\n",
        "df[\"LATITUDE\"]  = pd.to_numeric(df[\"LATITUDE\"],  errors=\"coerce\")\n",
        "df[\"LONGITUDE\"] = pd.to_numeric(df[\"LONGITUDE\"], errors=\"coerce\")\n",
        "if \"SECTOR\" in df.columns: df[\"SECTOR\"] = df[\"SECTOR\"].astype(\"category\")\n",
        "for dc in (\"FECHA\",\"DATE\",\"FECHA_VISITA\",\"VISIT_DATE\"):\n",
        "    if dc in df.columns: df[dc] = pd.to_datetime(df[dc], errors=\"coerce\")\n",
        "\n",
        "n_in = len(df)\n",
        "df = df.dropna(subset=[\"LATITUDE\",\"LONGITUDE\"]).copy()\n",
        "dropped = n_in - len(df)\n",
        "\n",
        "# 3) Geo conversion\n",
        "gdf = gpd.GeoDataFrame(df, geometry=gpd.points_from_xy(df[\"LONGITUDE\"], df[\"LATITUDE\"]), crs=\"EPSG:4326\")\n",
        "\n",
        "# 4) Polygon (KML) + unify\n",
        "poly_gdf = gpd.read_file(\"Guayaquil.kml\", driver=\"KML\").to_crs(\"EPSG:4326\")\n",
        "poly_gdf = poly_gdf[poly_gdf.geometry.type.isin([\"Polygon\",\"MultiPolygon\"])].copy()\n",
        "poly_union = poly_gdf.unary_union\n",
        "\n",
        "# 5) Define function to test whether each point lies within the polygon\n",
        "def point_in_poly(point, polygon):\n",
        "    \"\"\"Return 'Yes' if point is inside or on boundary; else 'No'.\"\"\"\n",
        "    return \"Yes\" if polygon.covers(point) else \"No\"\n",
        "\n",
        "gdf[\"INSIDE_POLYGON\"] = gdf.geometry.apply(lambda p: point_in_poly(p, poly_union))\n",
        "\n",
        "# 6) Wrangle / summary\n",
        "counts_in_out = (gdf.groupby(\"INSIDE_POLYGON\").size()\n",
        "                   .rename(\"COUNTS\").reset_index())\n",
        "\n",
        "# 6b) Unsupervised clustering with DBSCAN (haversine distance)\n",
        "R_km = 6371.0088                    # Earth radius (km)\n",
        "eps_km = 0.5                        # neighborhood radius in km\n",
        "coords_rad = np.radians(gdf[[\"LATITUDE\",\"LONGITUDE\"]].to_numpy())\n",
        "\n",
        "db = DBSCAN(eps=eps_km / R_km, min_samples=10, metric=\"haversine\").fit(coords_rad)\n",
        "gdf[\"CLUSTER_DBSCAN\"] = db.labels_\n",
        "\n",
        "# Compact summary\n",
        "labels = gdf[\"CLUSTER_DBSCAN\"]\n",
        "n_clusters = labels[labels != -1].nunique()\n",
        "top_sizes = (labels[labels != -1].value_counts().head(3).to_dict())\n",
        "print({\"dbscan_clusters\": int(n_clusters), \"top_cluster_sizes\": top_sizes})\n",
        "\n",
        "# 7) Static visualization (hexbin density)\n",
        "plt.figure(figsize=(4,3))\n",
        "plt.hexbin(gdf[\"LONGITUDE\"], gdf[\"LATITUDE\"], gridsize=40, mincnt=1)\n",
        "plt.title(\"Geographical distribution (hexbin)\", fontsize=9)\n",
        "plt.xlabel(\"Longitude\", fontsize=8); plt.ylabel(\"Latitude\", fontsize=8)\n",
        "plt.tight_layout(); plt.show()\n",
        "\n",
        "plt.figure(figsize=(4,3))\n",
        "palette = {-1: \"#AAAAAA\"}  # noise in gray\n",
        "for k in sorted(gdf[\"CLUSTER_DBSCAN\"].unique()):\n",
        "    sel = gdf[\"CLUSTER_DBSCAN\"] == k\n",
        "    c = palette.get(k, None)  # None lets matplotlib choose distinct colors\n",
        "    plt.scatter(gdf.loc[sel,\"LONGITUDE\"], gdf.loc[sel,\"LATITUDE\"], s=4, alpha=0.5, c=c)\n",
        "plt.title(\"DBSCAN clusters (haversine)\", fontsize=9)\n",
        "plt.xlabel(\"Longitude\", fontsize=8); plt.ylabel(\"Latitude\", fontsize=8)\n",
        "plt.tight_layout(); plt.show()\n",
        "\n",
        "\n",
        "# 8) Exports (results + interactive map saved to HTML)\n",
        "out_points = (gdf.drop(columns=[\"geometry\"])\n",
        "                .rename(columns={\"LATITUDE\":\"Latitude\",\"LONGITUDE\":\"Longitude\"}))\n",
        "out_points.to_csv(\"points_with_flag.csv\", index=False)\n",
        "\n",
        "# Define marker colors for inside vs. outside points\n",
        "colors = {\"Yes\": \"#2ca02c\", \"No\": \"#d62728\"}  # green for inside, red for outside\n",
        "\n",
        "import folium\n",
        "m = folium.Map(location=[gdf[\"LATITUDE\"].mean(), gdf[\"LONGITUDE\"].mean()],\n",
        "               zoom_start=12, tiles=\"CartoDB positron\")\n",
        "folium.GeoJson(poly_union, name=\"Guayaquil Polygon\",\n",
        "               style_function=lambda x: {\"color\":\"#1f77b4\",\"weight\":2,\"fillOpacity\":0.05}).add_to(m)\n",
        "for _, r in gdf.iterrows():\n",
        "    folium.CircleMarker([r[\"LATITUDE\"], r[\"LONGITUDE\"]],\n",
        "                        radius=4, color=colors.get(r[\"INSIDE_POLYGON\"],\"#888\"),\n",
        "                        fill=True, fill_opacity=0.8).add_to(m)\n",
        "m.save(\"map_validation.html\")\n",
        "print(\"Interactive map saved as 'map_validation.html' (open in a browser).\")\n",
        "\n",
        "# 9) Tiny printed summary (kept concise for 2 pages)\n",
        "print({\"rows_input\": n_in, \"rows_dropped_no_coords\": dropped})\n",
        "print(counts_in_out)\n"
      ],
      "metadata": {
        "colab": {
          "base_uri": "https://localhost:8080/",
          "height": 736
        },
        "id": "LFiBI0Jycta9",
        "outputId": "9d3fd4e9-70cb-4bfe-b346-93a980b91bac"
      },
      "execution_count": null,
      "outputs": [
        {
          "output_type": "stream",
          "name": "stderr",
          "text": [
            "/tmp/ipython-input-1710555732.py:35: DeprecationWarning: The 'unary_union' attribute is deprecated, use the 'union_all()' method instead.\n",
            "  poly_union = poly_gdf.unary_union\n"
          ]
        },
        {
          "output_type": "stream",
          "name": "stdout",
          "text": [
            "{'dbscan_clusters': 7, 'top_cluster_sizes': {0: 368, 4: 75, 1: 70}}\n"
          ]
        },
        {
          "output_type": "display_data",
          "data": {
            "text/plain": [
              "<Figure size 400x300 with 1 Axes>"
            ],
            "image/png": "[encoded data removed]"
          },
          "metadata": {}
        },
        {
          "output_type": "display_data",
          "data": {
            "text/plain": [
              "<Figure size 400x300 with 1 Axes>"
            ],
            "image/png": "[encoded data removed]"
          },
          "metadata": {}
        },
        {
          "output_type": "stream",
          "name": "stdout",
          "text": [
            "Interactive map saved as 'map_validation.html' (open in a browser).\n",
            "{'rows_input': 725, 'rows_dropped_no_coords': 0}\n",
            "  INSIDE_POLYGON  COUNTS\n",
            "0             No       3\n",
            "1            Yes     722\n"
          ]
        }
      ]
    }
  ]
}